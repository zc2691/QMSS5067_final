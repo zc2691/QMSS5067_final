{
 "cells": [
  {
   "cell_type": "code",
   "execution_count": 8,
   "id": "4b8cf2f2",
   "metadata": {},
   "outputs": [
    {
     "name": "stdout",
     "output_type": "stream",
     "text": [
      "[*********************100%%**********************]  1 of 1 completed\n",
      "[*********************100%%**********************]  1 of 1 completed\n",
      "[*********************100%%**********************]  1 of 1 completed\n",
      "[*********************100%%**********************]  1 of 1 completed\n",
      "[*********************100%%**********************]  1 of 1 completed\n"
     ]
    }
   ],
   "source": [
    "import pandas as pd\n",
    "import numpy as np\n",
    "import yfinance as yf\n",
    "\n",
    "# Set the date range for dataset used in this project\n",
    "start_date = '2021-02-01'\n",
    "end_date = '2022-01-31'\n",
    "\n",
    "# download the dataset within date range\n",
    "\n",
    "# S&P 500 Index\n",
    "sp_raw = yf.download (tickers = \"^GSPC\", start = start_date, end = end_date)\n",
    "# Dow Jones Industrial Average\n",
    "dji_raw = yf.download(tickers = \"dji\", start = start_date, end = end_date)\n",
    "# Nasdaq Composite Index\n",
    "nasdaq_raw = yf.download(tickers = \"^IXIC\", start = start_date, end = end_date)\n",
    "# Crude Oil Price\n",
    "oil_raw = yf.download(tickers = \"CL=F\", start = start_date, end = end_date)\n",
    "# Gold Price\n",
    "gold_raw = yf.download(tickers = \"GC=F\", start = start_date, end = end_date)"
   ]
  },
  {
   "cell_type": "code",
   "execution_count": 9,
   "id": "73ca08d4",
   "metadata": {},
   "outputs": [],
   "source": [
    "# download the csv file\n",
    "sp_raw.to_csv('sp_raw.csv')\n",
    "dji_raw.to_csv('dji_raw.csv')\n",
    "nasdaq_raw.to_csv('nasdaq_raw.csv')\n",
    "oil_raw.to_csv('oil_raw.csv')\n",
    "gold_raw.to_csv('gold_raw.csv')"
   ]
  }
 ],
 "metadata": {
  "kernelspec": {
   "display_name": "Python 3 (ipykernel)",
   "language": "python",
   "name": "python3"
  },
  "language_info": {
   "codemirror_mode": {
    "name": "ipython",
    "version": 3
   },
   "file_extension": ".py",
   "mimetype": "text/x-python",
   "name": "python",
   "nbconvert_exporter": "python",
   "pygments_lexer": "ipython3",
   "version": "3.9.12"
  }
 },
 "nbformat": 4,
 "nbformat_minor": 5
}
