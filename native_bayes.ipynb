{
 "cells": [
  {
   "cell_type": "code",
   "execution_count": 91,
   "metadata": {},
   "outputs": [
    {
     "name": "stdout",
     "output_type": "stream",
     "text": [
      "0.8649556981362664\n",
      "[[1348  184]\n",
      " [ 258 1483]]\n",
      "              precision    recall  f1-score   support\n",
      "\n",
      "    negative       0.84      0.88      0.86      1532\n",
      "    positive       0.89      0.85      0.87      1741\n",
      "\n",
      "    accuracy                           0.86      3273\n",
      "   macro avg       0.86      0.87      0.86      3273\n",
      "weighted avg       0.87      0.86      0.87      3273\n",
      "\n"
     ]
    },
    {
     "data": {
      "image/png": "[encoded data removed]",
      "text/plain": [
       "<Figure size 480x480 with 2 Axes>"
      ]
     },
     "metadata": {},
     "output_type": "display_data"
    }
   ],
   "source": [
    "import nltk\n",
    "import re\n",
    "import pandas as pd\n",
    "import numpy as np\n",
    "from sklearn.model_selection import train_test_split\n",
    "from sklearn.feature_extraction.text import TfidfVectorizer\n",
    "from sklearn.naive_bayes import MultinomialNB\n",
    "from sklearn import metrics\n",
    "import pylab as pl\n",
    "import pickle\n",
    "\n",
    "tweet_train = pd.read_csv(\"/Users/huafa/Downloads/Tweets.csv\")\n",
    "tweet_train = tweet_train[tweet_train['sentiment'] != 'neutral']\n",
    "\n",
    "X=tweet_train['text']\n",
    "y=tweet_train['sentiment']\n",
    "\n",
    "\n",
    "X_train, X_test, y_train, y_test = train_test_split(X,y,test_size=0.20, random_state=0)\n",
    "\n",
    "# Ensure X_train and X_test contain strings or bytes-like objects\n",
    "# Convert non-string data to strings if needed\n",
    "X_train = [str(tweet) for tweet in X_train]\n",
    "X_test = [str(tweet) for tweet in X_test]\n",
    "\n",
    "\n",
    "def preprocess(tweet):\n",
    "    \n",
    "    #Convert www.* or https?://* to URL\n",
    "    tweet = re.sub('((www\\.[^\\s]+)|(https?://[^\\s]+))','URL',tweet)\n",
    "    #tweet = re.sub('((www\\.[^\\s]+)|(https?://[^\\s]+))',' ',tweet)\n",
    "    \n",
    "    #Convert @username to __USERHANDLE\n",
    "    tweet = re.sub('@[^\\s]+','__USERHANDLE',tweet)  \n",
    "    #tweet = re.sub('@[^\\s]+',' ',tweet) \n",
    "    \n",
    "    #Replace #word with word\n",
    "    tweet = re.sub(r'#([^\\s]+)', r'\\1', tweet)\n",
    "    \n",
    "    #trim\n",
    "    tweet = tweet.strip('\\'\"')\n",
    "    \n",
    "    # Repeating words like hellloooo\n",
    "    repeat_char = re.compile(r\"(.)\\1{1,}\", re.IGNORECASE)\n",
    "    tweet = repeat_char.sub(r\"\\1\\1\", tweet)\n",
    "    \n",
    "    #Emoticons\n",
    "    emoticons = \\\n",
    "    [\n",
    "     ('__positive__',[ ':-)', ':)', '(:', '(-:', \\\n",
    "                       ':-D', ':D', 'X-D', 'XD', 'xD', \\\n",
    "                       '<3', ':\\*', ';-)', ';)', ';-D', ';D', '(;', '(-;', ] ),\\\n",
    "     ('__negative__', [':-(', ':(', '(:', '(-:', ':,(',\\\n",
    "                       ':\\'(', ':\"(', ':((','D:' ] ),\\\n",
    "    ]\n",
    "\n",
    "    def replace_parenthesis(arr):\n",
    "       return [text.replace(')', '[)}\\]]').replace('(', '[({\\[]') for text in arr]\n",
    "    \n",
    "    def join_parenthesis(arr):\n",
    "        return '(' + '|'.join( arr ) + ')'\n",
    "\n",
    "    emoticons_regex = [ (repl, re.compile(join_parenthesis(replace_parenthesis(regx))) ) \\\n",
    "            for (repl, regx) in emoticons ]\n",
    "    \n",
    "    for (repl, regx) in emoticons_regex :\n",
    "        tweet = re.sub(regx, ' '+repl+' ', tweet)\n",
    "\n",
    "     #Convert to lower case\n",
    "    tweet = tweet.lower()\n",
    "    \n",
    "    return tweet\n",
    "\n",
    "# Tokenizing and Stemming of Tweets\n",
    "def stem(tweet):\n",
    "        stemmer = nltk.stem.PorterStemmer()\n",
    "        tweet_stem = ''\n",
    "        words = [word if(word[0:2]=='__') else word.lower() \\\n",
    "                    for word in tweet.split() \\\n",
    "                    if len(word) >= 3]\n",
    "        words = [stemmer.stem(w) for w in words] \n",
    "        tweet_stem = ' '.join(words)\n",
    "        return tweet_stem\n",
    "\n",
    "\n",
    "\n",
    "# Apply preprocessing steps with checks for string-like objects\n",
    "X_train = [stem(preprocess(tweet)) if isinstance(tweet, str) else '' for tweet in X_train]\n",
    "X_test = [stem(preprocess(tweet)) if isinstance(tweet, str) else '' for tweet in X_test]\n",
    "\n",
    "# Train Multinomial Naive Beyes model\n",
    "vec = TfidfVectorizer(min_df=5, max_df=0.95, sublinear_tf = True,use_idf = True,ngram_range=(1, 2))\n",
    "X_train_vec = vec.fit_transform(X_train)\n",
    "mnb = MultinomialNB()\n",
    "mnb.fit(X_train_vec,y_train)\n",
    "X_test_vec = vec.transform(X_test)\n",
    "pred = mnb.predict(X_test_vec)\n",
    "fitted = mnb.predict(X_train_vec)\n",
    "\n",
    "print(metrics.accuracy_score(y_test, pred)) # multi-class\n",
    "\n",
    "print(metrics.confusion_matrix(y_test, pred))\n",
    "\n",
    "print(metrics.classification_report(y_test, pred))\n",
    "\n",
    "cm = metrics.confusion_matrix(y_test, pred)\n",
    "pl.matshow(cm)\n",
    "#pl.title('Confusion matrix of the classifier')\n",
    "pl.colorbar()\n",
    "pl.show()\n",
    "\n"
   ]
  },
  {
   "cell_type": "code",
   "execution_count": 92,
   "metadata": {},
   "outputs": [
    {
     "name": "stdout",
     "output_type": "stream",
     "text": [
      "0.8670944087992667\n",
      "[[1385  147]\n",
      " [ 288 1453]]\n",
      "              precision    recall  f1-score   support\n",
      "\n",
      "    negative       0.83      0.90      0.86      1532\n",
      "    positive       0.91      0.83      0.87      1741\n",
      "\n",
      "    accuracy                           0.87      3273\n",
      "   macro avg       0.87      0.87      0.87      3273\n",
      "weighted avg       0.87      0.87      0.87      3273\n",
      "\n"
     ]
    },
    {
     "data": {
      "image/png": "[encoded data removed]",
      "text/plain": [
       "<Figure size 480x480 with 2 Axes>"
      ]
     },
     "metadata": {},
     "output_type": "display_data"
    }
   ],
   "source": [
    "# Train complement Naive Beyes model\n",
    "X_train_vec = vec.fit_transform(X_train)\n",
    "cnb = ComplementNB()\n",
    "cnb.fit(X_train_vec,y_train)\n",
    "cnb_pred = cnb.predict(X_test_vec)\n",
    "fitted = cnb.predict(X_train_vec)\n",
    "\n",
    "print(metrics.accuracy_score(y_test, cnb_pred)) # multi-class\n",
    "\n",
    "print(metrics.confusion_matrix(y_test, cnb_pred))\n",
    "\n",
    "print(metrics.classification_report(y_test, cnb_pred))\n",
    "\n",
    "cm = metrics.confusion_matrix(y_test, cnb_pred)\n",
    "pl.matshow(cm)\n",
    "#pl.title('Confusion matrix of the classifier')\n",
    "pl.colorbar()\n",
    "pl.show()\n"
   ]
  },
  {
   "cell_type": "code",
   "execution_count": 93,
   "metadata": {},
   "outputs": [
    {
     "name": "stdout",
     "output_type": "stream",
     "text": [
      "0.8664833486098381\n",
      "[[1402  130]\n",
      " [ 307 1434]]\n",
      "              precision    recall  f1-score   support\n",
      "\n",
      "    negative       0.82      0.92      0.87      1532\n",
      "    positive       0.92      0.82      0.87      1741\n",
      "\n",
      "    accuracy                           0.87      3273\n",
      "   macro avg       0.87      0.87      0.87      3273\n",
      "weighted avg       0.87      0.87      0.87      3273\n",
      "\n"
     ]
    },
    {
     "data": {
      "image/png": "[encoded data removed]",
      "text/plain": [
       "<Figure size 480x480 with 2 Axes>"
      ]
     },
     "metadata": {},
     "output_type": "display_data"
    }
   ],
   "source": [
    "# Train Bernoulli Naive Beyes model\n",
    "X_train_vec = vec.fit_transform(X_train)\n",
    "bnb = BernoulliNB()\n",
    "bnb.fit(X_train_vec,y_train)\n",
    "bnb_pred = bnb.predict(X_test_vec)\n",
    "fitted = bnb.predict(X_train_vec)\n",
    "\n",
    "print(metrics.accuracy_score(y_test, bnb_pred)) # multi-class\n",
    "\n",
    "print(metrics.confusion_matrix(y_test, bnb_pred))\n",
    "\n",
    "print(metrics.classification_report(y_test, bnb_pred))\n",
    "\n",
    "cm = metrics.confusion_matrix(y_test, bnb_pred)\n",
    "pl.matshow(cm)\n",
    "#pl.title('Confusion matrix of the classifier')\n",
    "pl.colorbar()\n",
    "pl.show()\n",
    "\n"
   ]
  },
  {
   "cell_type": "code",
   "execution_count": 94,
   "metadata": {},
   "outputs": [],
   "source": [
    "# Since the cnb model has the highest accuracy rate, we will use cnb for our sentiment classifier\n",
    "process_data = pd.read_csv(\"/Users/huafa/Downloads/tweet_grouped_data.csv\")\n",
    "\n",
    "# Check and convert the 'tweet' column to strings if needed\n",
    "process_data['tweet'] = process_data['tweet'].astype(str)\n",
    "\n",
    "# Apply preprocessing steps to each tweet in the DataFrame\n",
    "tweets = [preprocess(str(tweet)) for tweet in process_data['tweet']]\n",
    "pred_tweets = [stem(tweet) for tweet in tweets]\n",
    "# Proceed with further processing or transformations based on 'pred_tweets'\n",
    "\n",
    "\n",
    "\n",
    "X_test = [stem(preprocess(tweet)) for tweet in pred_tweets]\n",
    "\n",
    "X_test_vec = vec.transform(X_test)\n",
    "pred = cnb.predict(X_test_vec)\n",
    "process_data[\"sentiment\"] = pred\n"
   ]
  },
  {
   "cell_type": "code",
   "execution_count": 95,
   "metadata": {},
   "outputs": [
    {
     "data": {
      "text/html": [
       "<div>\n",
       "<style scoped>\n",
       "    .dataframe tbody tr th:only-of-type {\n",
       "        vertical-align: middle;\n",
       "    }\n",
       "\n",
       "    .dataframe tbody tr th {\n",
       "        vertical-align: top;\n",
       "    }\n",
       "\n",
       "    .dataframe thead th {\n",
       "        text-align: right;\n",
       "    }\n",
       "</style>\n",
       "<table border=\"1\" class=\"dataframe\">\n",
       "  <thead>\n",
       "    <tr style=\"text-align: right;\">\n",
       "      <th></th>\n",
       "      <th>date</th>\n",
       "      <th>tweet</th>\n",
       "      <th>sentiment</th>\n",
       "    </tr>\n",
       "  </thead>\n",
       "  <tbody>\n",
       "    <tr>\n",
       "      <th>0</th>\n",
       "      <td>2021-02-01</td>\n",
       "      <td>feels weird helping make hopefully good versio...</td>\n",
       "      <td>negative</td>\n",
       "    </tr>\n",
       "    <tr>\n",
       "      <th>1</th>\n",
       "      <td>2021-02-02</td>\n",
       "      <td>off twitter forwhileмы сделаемit will be fille...</td>\n",
       "      <td>negative</td>\n",
       "    </tr>\n",
       "    <tr>\n",
       "      <th>2</th>\n",
       "      <td>2021-02-04</td>\n",
       "      <td>the most entertaining outcome is the most like...</td>\n",
       "      <td>negative</td>\n",
       "    </tr>\n",
       "    <tr>\n",
       "      <th>3</th>\n",
       "      <td>2021-02-05</td>\n",
       "      <td>yeah by default engine with least lever arm wo...</td>\n",
       "      <td>negative</td>\n",
       "    </tr>\n",
       "    <tr>\n",
       "      <th>4</th>\n",
       "      <td>2021-02-06</td>\n",
       "      <td>thatdamianjustscratchthe future currency of ea...</td>\n",
       "      <td>positive</td>\n",
       "    </tr>\n",
       "    <tr>\n",
       "      <th>...</th>\n",
       "      <td>...</td>\n",
       "      <td>...</td>\n",
       "      <td>...</td>\n",
       "    </tr>\n",
       "    <tr>\n",
       "      <th>347</th>\n",
       "      <td>2022-01-27</td>\n",
       "      <td>i am in awe of swedencanadian truckers rulebid...</td>\n",
       "      <td>negative</td>\n",
       "    </tr>\n",
       "    <tr>\n",
       "      <th>348</th>\n",
       "      <td>2022-01-28</td>\n",
       "      <td>if you scare people enough they will demand re...</td>\n",
       "      <td>negative</td>\n",
       "    </tr>\n",
       "    <tr>\n",
       "      <th>349</th>\n",
       "      <td>2022-01-29</td>\n",
       "      <td>lie back and think of marsthe universe ishydro...</td>\n",
       "      <td>negative</td>\n",
       "    </tr>\n",
       "    <tr>\n",
       "      <th>350</th>\n",
       "      <td>2022-01-30</td>\n",
       "      <td>how many gene sequence changes to covid 19 bef...</td>\n",
       "      <td>negative</td>\n",
       "    </tr>\n",
       "    <tr>\n",
       "      <th>351</th>\n",
       "      <td>2022-01-31</td>\n",
       "      <td>they ve been writing bogus articles about tesl...</td>\n",
       "      <td>positive</td>\n",
       "    </tr>\n",
       "  </tbody>\n",
       "</table>\n",
       "<p>352 rows × 3 columns</p>\n",
       "</div>"
      ],
      "text/plain": [
       "           date                                              tweet sentiment\n",
       "0    2021-02-01  feels weird helping make hopefully good versio...  negative\n",
       "1    2021-02-02  off twitter forwhileмы сделаемit will be fille...  negative\n",
       "2    2021-02-04  the most entertaining outcome is the most like...  negative\n",
       "3    2021-02-05  yeah by default engine with least lever arm wo...  negative\n",
       "4    2021-02-06  thatdamianjustscratchthe future currency of ea...  positive\n",
       "..          ...                                                ...       ...\n",
       "347  2022-01-27  i am in awe of swedencanadian truckers rulebid...  negative\n",
       "348  2022-01-28  if you scare people enough they will demand re...  negative\n",
       "349  2022-01-29  lie back and think of marsthe universe ishydro...  negative\n",
       "350  2022-01-30  how many gene sequence changes to covid 19 bef...  negative\n",
       "351  2022-01-31  they ve been writing bogus articles about tesl...  positive\n",
       "\n",
       "[352 rows x 3 columns]"
      ]
     },
     "execution_count": 95,
     "metadata": {},
     "output_type": "execute_result"
    }
   ],
   "source": [
    "process_data"
   ]
  },
  {
   "cell_type": "code",
   "execution_count": 96,
   "metadata": {},
   "outputs": [
    {
     "data": {
      "text/plain": [
       "negative    246\n",
       "positive    106\n",
       "Name: sentiment, dtype: int64"
      ]
     },
     "execution_count": 96,
     "metadata": {},
     "output_type": "execute_result"
    }
   ],
   "source": [
    "process_data['sentiment'].value_counts()"
   ]
  },
  {
   "cell_type": "code",
   "execution_count": 89,
   "metadata": {},
   "outputs": [],
   "source": [
    "tweet_train.to_csv('/Users/huafa/Downloads/nb_tweet_pred.csv', index=False)"
   ]
  }
 ],
 "metadata": {
  "kernelspec": {
   "display_name": "base",
   "language": "python",
   "name": "python3"
  },
  "language_info": {
   "codemirror_mode": {
    "name": "ipython",
    "version": 3
   },
   "file_extension": ".py",
   "mimetype": "text/x-python",
   "name": "python",
   "nbconvert_exporter": "python",
   "pygments_lexer": "ipython3",
   "version": "3.9.16"
  },
  "orig_nbformat": 4,
  "vscode": {
   "interpreter": {
    "hash": "cc33acd3cd848ea5153439dfa7fa119b77b9aaa07789f758f7d2550ed2fe4db9"
   }
  }
 },
 "nbformat": 4,
 "nbformat_minor": 2
}
